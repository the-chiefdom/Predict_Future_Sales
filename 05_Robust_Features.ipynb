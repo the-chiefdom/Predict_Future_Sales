{
 "cells": [
  {
   "cell_type": "code",
   "execution_count": 5,
   "metadata": {},
   "outputs": [],
   "source": [
    "import pandas as pd\n",
    "import numpy as np\n",
    "import matplotlib.pyplot as plt"
   ]
  },
  {
   "cell_type": "code",
   "execution_count": 6,
   "metadata": {},
   "outputs": [],
   "source": [
    "plt.style.use('ggplot')\n",
    "plt.rc('patch', force_edgecolor=True,edgecolor='black')\n",
    "plt.rc('hist', bins='auto')"
   ]
  },
  {
   "cell_type": "code",
   "execution_count": 7,
   "metadata": {},
   "outputs": [],
   "source": [
    "from sklearn.metrics import mean_squared_error\n",
    "from sklearn.model_selection import train_test_split\n",
    "\n",
    "import tensorflow as tf\n",
    "from keras import optimizers\n",
    "from keras.utils import plot_model\n",
    "from keras.models import Sequential, Model\n",
    "from keras.layers.convolutional import Conv1D, MaxPooling1D\n",
    "from keras.layers import Dense, LSTM, RepeatVector, TimeDistributed, Flatten, Dropout\n",
    "\n",
    "from sklearn.preprocessing import Normalizer\n",
    "from sklearn.preprocessing import StandardScaler\n",
    "from sklearn.preprocessing import RobustScaler"
   ]
  },
  {
   "cell_type": "code",
   "execution_count": 8,
   "metadata": {},
   "outputs": [],
   "source": [
    "train = pd.read_csv('wrangled_data/training_post_wrangle_small.csv')\n",
    "\n",
    "test_full = pd.read_csv('wrangled_data/testing_post_wrangle_small.csv')\n",
    "\n",
    "test_final = test_full.loc[:,['ID', 'shop_id', 'item_id']]"
   ]
  },
  {
   "cell_type": "code",
   "execution_count": 9,
   "metadata": {},
   "outputs": [],
   "source": [
    "features = ['date_block_num', 'mean_item', 'mode_item', 'item_name', 'item_category_id', 'item_category_name', 'shop_name']\n",
    "\n",
    "target = ['item_cnt_month']\n",
    "\n",
    "values = ['item_cnt_month']\n",
    "values = ['item_cnt_month', 'mean_item', 'mode_item', 'item_name', 'item_category_id', 'item_category_name', 'shop_name']"
   ]
  },
  {
   "cell_type": "code",
   "execution_count": 10,
   "metadata": {},
   "outputs": [
    {
     "data": {
      "text/plain": [
       "Index(['ID', 'shop_id', 'item_id', 'year', 'month', 'item_cnt_month',\n",
       "       'date_block_num', 'mean_item', 'mode_item', 'item_name',\n",
       "       'item_category_id', 'item_category_name', 'shop_name'],\n",
       "      dtype='object')"
      ]
     },
     "execution_count": 10,
     "metadata": {},
     "output_type": "execute_result"
    }
   ],
   "source": [
    "train.columns"
   ]
  },
  {
   "cell_type": "code",
   "execution_count": 11,
   "metadata": {},
   "outputs": [],
   "source": [
    "train = train.set_index(['ID', 'shop_id', 'item_id', 'year', 'month']).sort_index(axis=0, level=['ID', 'year', 'month'])"
   ]
  },
  {
   "cell_type": "code",
   "execution_count": 12,
   "metadata": {},
   "outputs": [
    {
     "data": {
      "text/html": [
       "<div>\n",
       "<style scoped>\n",
       "    .dataframe tbody tr th:only-of-type {\n",
       "        vertical-align: middle;\n",
       "    }\n",
       "\n",
       "    .dataframe tbody tr th {\n",
       "        vertical-align: top;\n",
       "    }\n",
       "\n",
       "    .dataframe thead th {\n",
       "        text-align: right;\n",
       "    }\n",
       "</style>\n",
       "<table border=\"1\" class=\"dataframe\">\n",
       "  <thead>\n",
       "    <tr style=\"text-align: right;\">\n",
       "      <th></th>\n",
       "      <th></th>\n",
       "      <th></th>\n",
       "      <th></th>\n",
       "      <th></th>\n",
       "      <th>item_cnt_month</th>\n",
       "      <th>date_block_num</th>\n",
       "      <th>mean_item</th>\n",
       "      <th>mode_item</th>\n",
       "      <th>item_name</th>\n",
       "      <th>item_category_id</th>\n",
       "      <th>item_category_name</th>\n",
       "      <th>shop_name</th>\n",
       "    </tr>\n",
       "    <tr>\n",
       "      <th>ID</th>\n",
       "      <th>shop_id</th>\n",
       "      <th>item_id</th>\n",
       "      <th>year</th>\n",
       "      <th>month</th>\n",
       "      <th></th>\n",
       "      <th></th>\n",
       "      <th></th>\n",
       "      <th></th>\n",
       "      <th></th>\n",
       "      <th></th>\n",
       "      <th></th>\n",
       "      <th></th>\n",
       "    </tr>\n",
       "  </thead>\n",
       "  <tbody>\n",
       "    <tr>\n",
       "      <th rowspan=\"5\" valign=\"top\">0</th>\n",
       "      <th rowspan=\"5\" valign=\"top\">5</th>\n",
       "      <th rowspan=\"5\" valign=\"top\">5037</th>\n",
       "      <th rowspan=\"5\" valign=\"top\">2013</th>\n",
       "      <th>1</th>\n",
       "      <td>0.0</td>\n",
       "      <td>0.0</td>\n",
       "      <td>0.382353</td>\n",
       "      <td>0.0</td>\n",
       "      <td>1195</td>\n",
       "      <td>19</td>\n",
       "      <td>11</td>\n",
       "      <td>3</td>\n",
       "    </tr>\n",
       "    <tr>\n",
       "      <th>2</th>\n",
       "      <td>0.0</td>\n",
       "      <td>1.0</td>\n",
       "      <td>0.382353</td>\n",
       "      <td>0.0</td>\n",
       "      <td>1195</td>\n",
       "      <td>19</td>\n",
       "      <td>11</td>\n",
       "      <td>3</td>\n",
       "    </tr>\n",
       "    <tr>\n",
       "      <th>3</th>\n",
       "      <td>0.0</td>\n",
       "      <td>2.0</td>\n",
       "      <td>0.382353</td>\n",
       "      <td>0.0</td>\n",
       "      <td>1195</td>\n",
       "      <td>19</td>\n",
       "      <td>11</td>\n",
       "      <td>3</td>\n",
       "    </tr>\n",
       "    <tr>\n",
       "      <th>4</th>\n",
       "      <td>0.0</td>\n",
       "      <td>3.0</td>\n",
       "      <td>0.382353</td>\n",
       "      <td>0.0</td>\n",
       "      <td>1195</td>\n",
       "      <td>19</td>\n",
       "      <td>11</td>\n",
       "      <td>3</td>\n",
       "    </tr>\n",
       "    <tr>\n",
       "      <th>5</th>\n",
       "      <td>0.0</td>\n",
       "      <td>4.0</td>\n",
       "      <td>0.382353</td>\n",
       "      <td>0.0</td>\n",
       "      <td>1195</td>\n",
       "      <td>19</td>\n",
       "      <td>11</td>\n",
       "      <td>3</td>\n",
       "    </tr>\n",
       "  </tbody>\n",
       "</table>\n",
       "</div>"
      ],
      "text/plain": [
       "                               item_cnt_month  date_block_num  mean_item  \\\n",
       "ID shop_id item_id year month                                              \n",
       "0  5       5037    2013 1                 0.0             0.0   0.382353   \n",
       "                        2                 0.0             1.0   0.382353   \n",
       "                        3                 0.0             2.0   0.382353   \n",
       "                        4                 0.0             3.0   0.382353   \n",
       "                        5                 0.0             4.0   0.382353   \n",
       "\n",
       "                               mode_item  item_name  item_category_id  \\\n",
       "ID shop_id item_id year month                                           \n",
       "0  5       5037    2013 1            0.0       1195                19   \n",
       "                        2            0.0       1195                19   \n",
       "                        3            0.0       1195                19   \n",
       "                        4            0.0       1195                19   \n",
       "                        5            0.0       1195                19   \n",
       "\n",
       "                               item_category_name  shop_name  \n",
       "ID shop_id item_id year month                                 \n",
       "0  5       5037    2013 1                      11          3  \n",
       "                        2                      11          3  \n",
       "                        3                      11          3  \n",
       "                        4                      11          3  \n",
       "                        5                      11          3  "
      ]
     },
     "execution_count": 12,
     "metadata": {},
     "output_type": "execute_result"
    }
   ],
   "source": [
    "train.head()"
   ]
  },
  {
   "cell_type": "code",
   "execution_count": 13,
   "metadata": {},
   "outputs": [],
   "source": [
    "y_train = train[train['date_block_num'] == 33]\n",
    "X_train = train[train['date_block_num'] != 33]\n",
    "\n",
    "X_test = train[train['date_block_num'] != 0]"
   ]
  },
  {
   "cell_type": "code",
   "execution_count": 14,
   "metadata": {},
   "outputs": [],
   "source": [
    "y_train = y_train.pivot_table(index = ['ID','shop_id','item_id'], \n",
    "                  values = ['item_cnt_month'], columns =['date_block_num']).values"
   ]
  },
  {
   "cell_type": "code",
   "execution_count": 15,
   "metadata": {},
   "outputs": [],
   "source": [
    "X_train = X_train.pivot_table(index = ['ID','shop_id','item_id'], \n",
    "                  values = values, columns =['date_block_num']).values\n",
    "\n",
    "X_test = X_test.pivot_table(index = ['ID','shop_id','item_id'], \n",
    "                  values = values, columns =['date_block_num']).values"
   ]
  },
  {
   "cell_type": "code",
   "execution_count": 16,
   "metadata": {},
   "outputs": [],
   "source": [
    "X_train = X_train.reshape((214200, -1, 33))\n",
    "X_test = X_test.reshape((214200, -1, 33))"
   ]
  },
  {
   "cell_type": "code",
   "execution_count": 17,
   "metadata": {},
   "outputs": [],
   "source": [
    "scaler = RobustScaler()\n",
    "X_train = scaler.fit_transform(X_train.reshape(-1, X_train.shape[-1])).reshape(X_train.shape)\n",
    "X_test = scaler.transform(X_test.reshape(-1, X_test.shape[-1])).reshape(X_test.shape)"
   ]
  },
  {
   "cell_type": "code",
   "execution_count": 18,
   "metadata": {},
   "outputs": [
    {
     "data": {
      "text/plain": [
       "(214200, 7, 33)"
      ]
     },
     "execution_count": 18,
     "metadata": {},
     "output_type": "execute_result"
    }
   ],
   "source": [
    "X_test.shape"
   ]
  },
  {
   "cell_type": "code",
   "execution_count": 19,
   "metadata": {},
   "outputs": [],
   "source": [
    "# dataset_scaled = RobustScaler().fit_transform(X_test)\n",
    "# dataset_scaled = np.expand_dims(dataset_scaled, axis=2)"
   ]
  },
  {
   "cell_type": "code",
   "execution_count": 20,
   "metadata": {},
   "outputs": [],
   "source": [
    "# train.droplevel(['shop_id', 'item_id', 'year', 'month'])"
   ]
  },
  {
   "cell_type": "code",
   "execution_count": 21,
   "metadata": {},
   "outputs": [],
   "source": [
    "# train.to_numpy()"
   ]
  },
  {
   "cell_type": "code",
   "execution_count": 22,
   "metadata": {},
   "outputs": [],
   "source": [
    "# train.reset_index().set_index('ID').loc[0].to_numpy()"
   ]
  },
  {
   "cell_type": "code",
   "execution_count": 23,
   "metadata": {},
   "outputs": [],
   "source": [
    "# print(train.columns[0], train.columns[34], train.columns[68], train.columns[34+68], \n",
    "#      train.columns[2*68], train.columns[5*34], train.columns[6*34])"
   ]
  },
  {
   "cell_type": "code",
   "execution_count": 24,
   "metadata": {},
   "outputs": [
    {
     "name": "stdout",
     "output_type": "stream",
     "text": [
      "(214200, 7, 33) (214200, 1) (214200, 7, 33)\n"
     ]
    }
   ],
   "source": [
    "# # X we will keep all columns execpt the last one \n",
    "# X_train = np.expand_dims(dataset_scaled[:,:-1],axis = 2)\n",
    "# # the last column is our label\n",
    "# y_train = dataset_scaled[:,-1:]\n",
    "\n",
    "# # for test we keep all the columns execpt the first one\n",
    "# X_test = np.expand_dims(dataset_scaled[:,1:],axis = 2)\n",
    "\n",
    "# lets have a look on the shape \n",
    "print(X_train.shape,y_train.shape,X_test.shape)"
   ]
  },
  {
   "cell_type": "code",
   "execution_count": 37,
   "metadata": {},
   "outputs": [
    {
     "name": "stdout",
     "output_type": "stream",
     "text": [
      "Model: \"sequential_1\"\n",
      "_________________________________________________________________\n",
      "Layer (type)                 Output Shape              Param #   \n",
      "=================================================================\n",
      "lstm_3 (LSTM)                (None, 7, 128)            82944     \n",
      "_________________________________________________________________\n",
      "leaky_re_lu_2 (LeakyReLU)    (None, 7, 128)            0         \n",
      "_________________________________________________________________\n",
      "lstm_4 (LSTM)                (None, 7, 128)            131584    \n",
      "_________________________________________________________________\n",
      "leaky_re_lu_3 (LeakyReLU)    (None, 7, 128)            0         \n",
      "_________________________________________________________________\n",
      "dropout_2 (Dropout)          (None, 7, 128)            0         \n",
      "_________________________________________________________________\n",
      "lstm_5 (LSTM)                (None, 64)                49408     \n",
      "_________________________________________________________________\n",
      "dropout_3 (Dropout)          (None, 64)                0         \n",
      "_________________________________________________________________\n",
      "dense_1 (Dense)              (None, 1)                 65        \n",
      "=================================================================\n",
      "Total params: 264,001\n",
      "Trainable params: 264,001\n",
      "Non-trainable params: 0\n",
      "_________________________________________________________________\n"
     ]
    }
   ],
   "source": [
    "model_lstm = tf.keras.Sequential()\n",
    "model_lstm.add(tf.keras.layers.LSTM(128, input_shape = (X_train.shape[1], X_train.shape[2]), return_sequences=True))\n",
    "model_lstm.add(tf.keras.layers.LeakyReLU(alpha=0.5))\n",
    "model_lstm.add(tf.keras.layers.LSTM(128, return_sequences=True))\n",
    "model_lstm.add(tf.keras.layers.LeakyReLU(alpha=0.5))\n",
    "model_lstm.add(tf.keras.layers.Dropout(0.3))\n",
    "model_lstm.add(tf.keras.layers.LSTM(64, return_sequences=False))\n",
    "model_lstm.add(tf.keras.layers.Dropout(0.3))\n",
    "model_lstm.add(tf.keras.layers.Dense(1))\n",
    "\n",
    "model_lstm.compile(loss = 'mse',optimizer = 'adam', metrics = ['mean_squared_error']) #Starting learning rate\n",
    "model_lstm.summary()"
   ]
  },
  {
   "cell_type": "code",
   "execution_count": 38,
   "metadata": {},
   "outputs": [
    {
     "name": "stdout",
     "output_type": "stream",
     "text": [
      "Train on 214200 samples\n",
      "Epoch 1/25\n",
      "214200/214200 [==============================] - 31s 143us/sample - loss: 30.7833 - mean_squared_error: 30.7833\n",
      "Epoch 2/25\n",
      "214200/214200 [==============================] - 25s 114us/sample - loss: 30.3220 - mean_squared_error: 30.3220\n",
      "Epoch 3/25\n",
      "214200/214200 [==============================] - 25s 116us/sample - loss: 30.5975 - mean_squared_error: 30.5975\n",
      "Epoch 4/25\n",
      "214200/214200 [==============================] - 25s 115us/sample - loss: 30.0107 - mean_squared_error: 30.0107\n",
      "Epoch 5/25\n",
      "214200/214200 [==============================] - 25s 115us/sample - loss: 29.8234 - mean_squared_error: 29.8234\n",
      "Epoch 6/25\n",
      "214200/214200 [==============================] - 25s 117us/sample - loss: 29.7423 - mean_squared_error: 29.7423\n",
      "Epoch 7/25\n",
      "214200/214200 [==============================] - 24s 114us/sample - loss: 29.6645 - mean_squared_error: 29.6645\n",
      "Epoch 8/25\n",
      "214200/214200 [==============================] - 24s 114us/sample - loss: 29.5878 - mean_squared_error: 29.5878\n",
      "Epoch 9/25\n",
      "214200/214200 [==============================] - 24s 114us/sample - loss: 29.4651 - mean_squared_error: 29.4651\n",
      "Epoch 10/25\n",
      "214200/214200 [==============================] - 25s 115us/sample - loss: 29.3606 - mean_squared_error: 29.3606\n",
      "Epoch 11/25\n",
      "214200/214200 [==============================] - 24s 114us/sample - loss: 29.2897 - mean_squared_error: 29.2897\n",
      "Epoch 12/25\n",
      "214200/214200 [==============================] - 24s 114us/sample - loss: 29.2088 - mean_squared_error: 29.2088\n",
      "Epoch 13/25\n",
      "214200/214200 [==============================] - 25s 117us/sample - loss: 29.1911 - mean_squared_error: 29.1911\n",
      "Epoch 14/25\n",
      "214200/214200 [==============================] - 24s 113us/sample - loss: 29.1647 - mean_squared_error: 29.1647\n",
      "Epoch 15/25\n",
      "214200/214200 [==============================] - 24s 113us/sample - loss: 29.1171 - mean_squared_error: 29.1171\n",
      "Epoch 16/25\n",
      "214200/214200 [==============================] - 25s 115us/sample - loss: 28.9867 - mean_squared_error: 28.9867\n",
      "Epoch 17/25\n",
      "214200/214200 [==============================] - 24s 113us/sample - loss: 28.9105 - mean_squared_error: 28.9105\n",
      "Epoch 18/25\n",
      "214200/214200 [==============================] - 24s 114us/sample - loss: 28.9749 - mean_squared_error: 28.9749\n",
      "Epoch 19/25\n",
      "214200/214200 [==============================] - 24s 113us/sample - loss: 28.8170 - mean_squared_error: 28.8170\n",
      "Epoch 20/25\n",
      "214200/214200 [==============================] - 25s 116us/sample - loss: 28.8473 - mean_squared_error: 28.8473\n",
      "Epoch 21/25\n",
      "214200/214200 [==============================] - 25s 115us/sample - loss: 28.8100 - mean_squared_error: 28.8100\n",
      "Epoch 22/25\n",
      "214200/214200 [==============================] - 25s 115us/sample - loss: 28.7878 - mean_squared_error: 28.7878\n",
      "Epoch 23/25\n",
      "214200/214200 [==============================] - 24s 114us/sample - loss: 28.7793 - mean_squared_error: 28.7793\n",
      "Epoch 24/25\n",
      "214200/214200 [==============================] - 24s 113us/sample - loss: 28.6834 - mean_squared_error: 28.6834\n",
      "Epoch 25/25\n",
      "214200/214200 [==============================] - 25s 115us/sample - loss: 28.6182 - mean_squared_error: 28.6182\n"
     ]
    }
   ],
   "source": [
    "history_lstm = model_lstm.fit(X_train, y_train, batch_size = 4096, epochs = 5)"
   ]
  },
  {
   "cell_type": "code",
   "execution_count": 39,
   "metadata": {},
   "outputs": [
    {
     "data": {
      "text/plain": [
       "<matplotlib.legend.Legend at 0x7ff1d002e940>"
      ]
     },
     "execution_count": 39,
     "metadata": {},
     "output_type": "execute_result"
    },
    {
     "data": {
      "image/png": "[encoded data removed]",
      "text/plain": [
       "<Figure size 432x288 with 1 Axes>"
      ]
     },
     "metadata": {},
     "output_type": "display_data"
    }
   ],
   "source": [
    "# Plot the loss curves for training\n",
    "plt.plot(history_lstm.history['loss'], color='b', label=\"Training loss\")\n",
    "plt.legend(loc='best', shadow=True)"
   ]
  },
  {
   "cell_type": "code",
   "execution_count": 40,
   "metadata": {},
   "outputs": [],
   "source": [
    "# dataset_scaled = RobustScaler().fit_transform(X_test)\n",
    "# X_test = np.expand_dims(dataset_scaled, axis=2)"
   ]
  },
  {
   "cell_type": "code",
   "execution_count": 41,
   "metadata": {},
   "outputs": [],
   "source": [
    "# creating submission file \n",
    "submission_pfs = model_lstm.predict(X_test)\n",
    "# we will keep every value between 0 and 20\n",
    "submission_pfs = submission_pfs.clip(0,20)"
   ]
  },
  {
   "cell_type": "code",
   "execution_count": 30,
   "metadata": {},
   "outputs": [],
   "source": [
    "# fullset = np.concatenate((dataset_scaled, submission_pfs), 1)"
   ]
  },
  {
   "cell_type": "code",
   "execution_count": 31,
   "metadata": {},
   "outputs": [],
   "source": [
    "# fullset[:,1:].shape"
   ]
  },
  {
   "cell_type": "code",
   "execution_count": 32,
   "metadata": {},
   "outputs": [],
   "source": [
    "# submission_unscaled = scaler.inverse_transform(fullset[:,1:])"
   ]
  },
  {
   "cell_type": "code",
   "execution_count": 33,
   "metadata": {},
   "outputs": [],
   "source": [
    "# submission_unscaled[:,-1].shape"
   ]
  },
  {
   "cell_type": "code",
   "execution_count": 42,
   "metadata": {},
   "outputs": [],
   "source": [
    "# creating dataframe with required columns \n",
    "submission = pd.DataFrame({'ID':test_final['ID'],'item_cnt_month':submission_pfs[:,-1].ravel()})\n",
    "# creating csv file from dataframe\n",
    "submission.to_csv('submission_files/robustscale_feature_eng.csv',index = False)"
   ]
  },
  {
   "cell_type": "code",
   "execution_count": 43,
   "metadata": {},
   "outputs": [
    {
     "data": {
      "text/html": [
       "<div>\n",
       "<style scoped>\n",
       "    .dataframe tbody tr th:only-of-type {\n",
       "        vertical-align: middle;\n",
       "    }\n",
       "\n",
       "    .dataframe tbody tr th {\n",
       "        vertical-align: top;\n",
       "    }\n",
       "\n",
       "    .dataframe thead th {\n",
       "        text-align: right;\n",
       "    }\n",
       "</style>\n",
       "<table border=\"1\" class=\"dataframe\">\n",
       "  <thead>\n",
       "    <tr style=\"text-align: right;\">\n",
       "      <th></th>\n",
       "      <th>ID</th>\n",
       "      <th>item_cnt_month</th>\n",
       "    </tr>\n",
       "  </thead>\n",
       "  <tbody>\n",
       "    <tr>\n",
       "      <th>0</th>\n",
       "      <td>0</td>\n",
       "      <td>0.365020</td>\n",
       "    </tr>\n",
       "    <tr>\n",
       "      <th>1</th>\n",
       "      <td>1</td>\n",
       "      <td>0.048166</td>\n",
       "    </tr>\n",
       "    <tr>\n",
       "      <th>2</th>\n",
       "      <td>2</td>\n",
       "      <td>0.586048</td>\n",
       "    </tr>\n",
       "  </tbody>\n",
       "</table>\n",
       "</div>"
      ],
      "text/plain": [
       "   ID  item_cnt_month\n",
       "0   0        0.365020\n",
       "1   1        0.048166\n",
       "2   2        0.586048"
      ]
     },
     "execution_count": 43,
     "metadata": {},
     "output_type": "execute_result"
    }
   ],
   "source": [
    "submission.head(3)"
   ]
  },
  {
   "cell_type": "code",
   "execution_count": 44,
   "metadata": {},
   "outputs": [
    {
     "data": {
      "text/plain": [
       "((214200, 2), (214200, 3))"
      ]
     },
     "execution_count": 44,
     "metadata": {},
     "output_type": "execute_result"
    }
   ],
   "source": [
    "submission.shape, test_final.shape"
   ]
  },
  {
   "cell_type": "code",
   "execution_count": null,
   "metadata": {},
   "outputs": [],
   "source": []
  }
 ],
 "metadata": {
  "kernelspec": {
   "display_name": "Python 3",
   "language": "python",
   "name": "python3"
  },
  "language_info": {
   "codemirror_mode": {
    "name": "ipython",
    "version": 3
   },
   "file_extension": ".py",
   "mimetype": "text/x-python",
   "name": "python",
   "nbconvert_exporter": "python",
   "pygments_lexer": "ipython3",
   "version": "3.9.0"
  }
 },
 "nbformat": 4,
 "nbformat_minor": 4
}
